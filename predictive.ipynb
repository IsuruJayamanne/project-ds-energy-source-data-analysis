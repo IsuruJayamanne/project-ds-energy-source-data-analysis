{
 "cells": [
  {
   "attachments": {},
   "cell_type": "markdown",
   "metadata": {},
   "source": [
    "# Predictive"
   ]
  },
  {
   "cell_type": "code",
   "execution_count": 56,
   "metadata": {},
   "outputs": [],
   "source": [
    "import pandas as pd "
   ]
  },
  {
   "cell_type": "code",
   "execution_count": 57,
   "metadata": {},
   "outputs": [],
   "source": [
    "df_consumption = pd.read_excel(\"energy_sources.xlsx\", sheet_name=\"energy consumption by sources\", engine='openpyxl')"
   ]
  },
  {
   "cell_type": "code",
   "execution_count": 58,
   "metadata": {},
   "outputs": [
    {
     "data": {
      "text/html": [
       "<div>\n",
       "<style scoped>\n",
       "    .dataframe tbody tr th:only-of-type {\n",
       "        vertical-align: middle;\n",
       "    }\n",
       "\n",
       "    .dataframe tbody tr th {\n",
       "        vertical-align: top;\n",
       "    }\n",
       "\n",
       "    .dataframe thead th {\n",
       "        text-align: right;\n",
       "    }\n",
       "</style>\n",
       "<table border=\"1\" class=\"dataframe\">\n",
       "  <thead>\n",
       "    <tr style=\"text-align: right;\">\n",
       "      <th></th>\n",
       "      <th>count</th>\n",
       "      <th>mean</th>\n",
       "      <th>std</th>\n",
       "      <th>min</th>\n",
       "      <th>25%</th>\n",
       "      <th>50%</th>\n",
       "      <th>75%</th>\n",
       "      <th>max</th>\n",
       "    </tr>\n",
       "  </thead>\n",
       "  <tbody>\n",
       "    <tr>\n",
       "      <th>Non Renewable - EJ</th>\n",
       "      <td>55.0</td>\n",
       "      <td>296061.921763</td>\n",
       "      <td>95898.357206</td>\n",
       "      <td>129564.068852</td>\n",
       "      <td>227984.065979</td>\n",
       "      <td>287893.133054</td>\n",
       "      <td>382426.149618</td>\n",
       "      <td>462420.435964</td>\n",
       "    </tr>\n",
       "    <tr>\n",
       "      <th>Renewable - EJ</th>\n",
       "      <td>55.0</td>\n",
       "      <td>3209.850510</td>\n",
       "      <td>4907.442981</td>\n",
       "      <td>149.877054</td>\n",
       "      <td>371.441158</td>\n",
       "      <td>1135.334359</td>\n",
       "      <td>3111.469999</td>\n",
       "      <td>20851.211907</td>\n",
       "    </tr>\n",
       "  </tbody>\n",
       "</table>\n",
       "</div>"
      ],
      "text/plain": [
       "                    count           mean           std            min  \\\n",
       "Non Renewable - EJ   55.0  296061.921763  95898.357206  129564.068852   \n",
       "Renewable - EJ       55.0    3209.850510   4907.442981     149.877054   \n",
       "\n",
       "                              25%            50%            75%            max  \n",
       "Non Renewable - EJ  227984.065979  287893.133054  382426.149618  462420.435964  \n",
       "Renewable - EJ         371.441158    1135.334359    3111.469999   20851.211907  "
      ]
     },
     "execution_count": 58,
     "metadata": {},
     "output_type": "execute_result"
    }
   ],
   "source": [
    "# Clean data\n",
    "\n",
    "# get all data to same units\n",
    "df_consumption['Biofuels - EJ'] = df_consumption['Biofuels (TWh)'].apply(lambda x: (x*3.6)/1000)\n",
    "\n",
    "# get sum of consumption by year\n",
    "df_consumption_by_year = df_consumption.groupby('Year').sum()\n",
    "\n",
    "# remove data before 1965\n",
    "df_consumption_by_year = df_consumption_by_year.drop(df_consumption_by_year.index[0:65])\n",
    "\n",
    "# Merge columns of non renewable sources and renewable sources to 2 columns from df_consumption_by_year\n",
    "df_consumption_by_year['Non Renewable - EJ'] = df_consumption_by_year['Coal Consumption - EJ'] + df_consumption_by_year['Oil Consumption - EJ'] + df_consumption_by_year['Gas Consumption - EJ'] + df_consumption_by_year['Nuclear Consumption - EJ'] + df_consumption_by_year['Hydro Consumption - EJ']\n",
    "df_consumption_by_year['Renewable - EJ'] = df_consumption_by_year['Biofuels - EJ'] + df_consumption_by_year['Solar Consumption - EJ'] + df_consumption_by_year['Wind Consumption - EJ'] + df_consumption_by_year['Geo Biomass Other - EJ']\n",
    "\n",
    "# get only the new columns\n",
    "df_consumption_by_year = df_consumption_by_year[['Non Renewable - EJ', 'Renewable - EJ']]\n",
    "\n",
    "df_consumption_by_year.describe().T"
   ]
  },
  {
   "attachments": {},
   "cell_type": "markdown",
   "metadata": {},
   "source": [
    "### Consider renewable energy consumption"
   ]
  },
  {
   "cell_type": "code",
   "execution_count": 59,
   "metadata": {},
   "outputs": [],
   "source": [
    "renewables = df_consumption_by_year[['Renewable - EJ']]"
   ]
  },
  {
   "cell_type": "code",
   "execution_count": 60,
   "metadata": {},
   "outputs": [],
   "source": [
    "import matplotlib.pyplot as plt"
   ]
  },
  {
   "cell_type": "code",
   "execution_count": 61,
   "metadata": {},
   "outputs": [
    {
     "data": {
      "image/png": "[encoded data removed]",
      "text/plain": [
       "<Figure size 640x480 with 1 Axes>"
      ]
     },
     "metadata": {},
     "output_type": "display_data"
    }
   ],
   "source": [
    "# plot dataset\n",
    "# plt.plot(df_consumption_by_year.index, df_consumption_by_year['Non Renewable - EJ'], label='Non Renewable')\n",
    "plt.plot(renewables.index, renewables['Renewable - EJ'], label='Renewable')\n",
    "\n",
    "# header to graph as renewable consumption\n",
    "plt.title('Renewable Energy Consumption')\n",
    "plt.xlabel('Year')\n",
    "plt.ylabel('Energy Consumption (EJ)')\n",
    "\n",
    "plt.show()"
   ]
  },
  {
   "cell_type": "code",
   "execution_count": 62,
   "metadata": {},
   "outputs": [],
   "source": [
    "# forecast annual energy consumption with random forest\n",
    "\n",
    "from numpy import asarray\n",
    "from pandas import read_csv\n",
    "from pandas import DataFrame\n",
    "from pandas import concat\n",
    "from sklearn.metrics import mean_absolute_error\n",
    "from sklearn.ensemble import RandomForestRegressor\n",
    "import matplotlib.pyplot as plt"
   ]
  },
  {
   "cell_type": "code",
   "execution_count": 63,
   "metadata": {},
   "outputs": [],
   "source": [
    "# transform a time series dataset into a supervised learning dataset\n",
    "def series_to_supervised(data, n_in=1, n_out=1, dropnan=True):\n",
    " n_vars = 1 if type(data) is list else data.shape[1]\n",
    " df = DataFrame(data)\n",
    " cols = list()\n",
    " # input sequence (t-n, ... t-1)\n",
    " for i in range(n_in, 0, -1):\n",
    "    cols.append(df.shift(i))\n",
    " # forecast sequence (t, t+1, ... t+n)\n",
    " for i in range(0, n_out):\n",
    "    cols.append(df.shift(-i))\n",
    " # put it all together\n",
    " agg = concat(cols, axis=1)\n",
    " # drop rows with NaN values\n",
    " if dropnan:\n",
    "    agg.dropna(inplace=True)\n",
    " return agg.values"
   ]
  },
  {
   "cell_type": "code",
   "execution_count": 64,
   "metadata": {},
   "outputs": [],
   "source": [
    "# split a univariate dataset into train/test sets\n",
    "def train_test_split(data, n_test):\n",
    " return data[:-n_test, :], data[-n_test:, :]"
   ]
  },
  {
   "cell_type": "code",
   "execution_count": 65,
   "metadata": {},
   "outputs": [],
   "source": [
    "# fit an random forest model and make a one step prediction\n",
    "def random_forest_forecast(train, testX):\n",
    " # transform list into array\n",
    " train = asarray(train)\n",
    " # split into input and output columns\n",
    " trainX, trainy = train[:, :-1], train[:, -1]\n",
    " # fit model\n",
    " model = RandomForestRegressor(n_estimators=1000)\n",
    " model.fit(trainX, trainy)\n",
    " # make a one-step prediction\n",
    " yhat = model.predict([testX])\n",
    " return yhat[0]"
   ]
  },
  {
   "cell_type": "code",
   "execution_count": 71,
   "metadata": {},
   "outputs": [],
   "source": [
    "# walk-forward validation for univariate data\n",
    "def walk_forward_validation(data, n_test):\n",
    " predictions = list()\n",
    " # split dataset\n",
    " train, test = train_test_split(data, n_test)\n",
    " # seed history with training dataset\n",
    " history = [x for x in train]\n",
    " # step over each time-step in the test set\n",
    " for i in range(len(test)):\n",
    "    # split test row into input and output columns\n",
    "    testX, testy = test[i, :-1], test[i, -1]\n",
    "    # fit model on history and make a prediction\n",
    "    yhat = random_forest_forecast(history, testX)\n",
    "    # store forecast in list of predictions\n",
    "    predictions.append(yhat)\n",
    "    # add actual observation to history for the next loop\n",
    "    history.append(test[i])\n",
    "    # summarize progress\n",
    "    print('- expected=%.1f, predicted=%.1f' % (testy, yhat))\n",
    " # estimate prediction error\n",
    " error = mean_absolute_error(test[:, -1], predictions)\n",
    " return error, test[:, -1], predictions"
   ]
  },
  {
   "cell_type": "code",
   "execution_count": 72,
   "metadata": {},
   "outputs": [],
   "source": [
    "values = renewables.values"
   ]
  },
  {
   "cell_type": "code",
   "execution_count": 73,
   "metadata": {},
   "outputs": [],
   "source": [
    "# transform the time series data into supervised learning\n",
    "data = series_to_supervised(values, n_in=10)\n",
    "# data"
   ]
  },
  {
   "cell_type": "code",
   "execution_count": 85,
   "metadata": {},
   "outputs": [
    {
     "name": "stdout",
     "output_type": "stream",
     "text": [
      "- expected=411.6, predicted=374.3\n",
      "- expected=443.0, predicted=399.9\n",
      "- expected=511.6, predicted=429.8\n",
      "- expected=567.1, predicted=483.8\n",
      "- expected=633.8, predicted=541.3\n",
      "- expected=648.9, predicted=601.2\n",
      "- expected=714.4, predicted=635.7\n",
      "- expected=765.4, predicted=688.7\n",
      "- expected=788.5, predicted=740.1\n",
      "- expected=893.8, predicted=770.3\n",
      "- expected=1008.9, predicted=852.3\n",
      "- expected=1055.6, predicted=950.6\n",
      "- expected=1135.3, predicted=1020.9\n",
      "- expected=1180.3, predicted=1095.5\n",
      "- expected=1235.4, predicted=1150.7\n",
      "- expected=1294.9, predicted=1207.1\n",
      "- expected=1338.2, predicted=1263.9\n",
      "- expected=1451.5, predicted=1314.0\n",
      "- expected=1547.0, predicted=1398.8\n",
      "- expected=1663.7, predicted=1492.9\n",
      "- expected=1822.7, predicted=1602.3\n",
      "- expected=1919.1, predicted=1741.6\n",
      "- expected=2143.7, predicted=1859.1\n",
      "- expected=2315.3, predicted=2033.5\n",
      "- expected=2627.9, predicted=2219.0\n",
      "- expected=2930.2, predicted=2482.1\n",
      "- expected=3292.8, predicted=2768.5\n",
      "- expected=3775.2, predicted=3098.5\n",
      "- expected=4351.2, predicted=3523.7\n",
      "- expected=5016.7, predicted=4063.4\n",
      "- expected=5952.3, predicted=4666.5\n",
      "- expected=7038.9, predicted=5476.9\n",
      "- expected=8216.9, predicted=6449.6\n",
      "- expected=9523.2, predicted=7610.1\n",
      "- expected=10736.8, predicted=8882.6\n",
      "- expected=12353.8, predicted=10042.8\n",
      "- expected=13889.5, predicted=11566.4\n",
      "- expected=16290.1, predicted=13007.8\n",
      "- expected=18411.0, predicted=15151.3\n",
      "- expected=20851.2, predicted=17166.5\n",
      "MAE: 748.096\n"
     ]
    }
   ],
   "source": [
    "# evaluate\n",
    "mae, y, yhat = walk_forward_validation(data, 40)\n",
    "print('MAE: %.3f' % mae)"
   ]
  },
  {
   "cell_type": "code",
   "execution_count": 86,
   "metadata": {},
   "outputs": [
    {
     "data": {
      "image/png": "[encoded data removed]",
      "text/plain": [
       "<Figure size 640x480 with 1 Axes>"
      ]
     },
     "metadata": {},
     "output_type": "display_data"
    }
   ],
   "source": [
    "# plot expected vs predicted\n",
    "plt.plot(y, label='Expected')\n",
    "plt.plot(yhat, label='Predicted')\n",
    "plt.legend()\n",
    "plt.show()"
   ]
  }
 ],
 "metadata": {
  "kernelspec": {
   "display_name": "Python 3 (ipykernel)",
   "language": "python",
   "name": "python3"
  },
  "language_info": {
   "codemirror_mode": {
    "name": "ipython",
    "version": 3
   },
   "file_extension": ".py",
   "mimetype": "text/x-python",
   "name": "python",
   "nbconvert_exporter": "python",
   "pygments_lexer": "ipython3",
   "version": "3.9.13"
  },
  "orig_nbformat": 4
 },
 "nbformat": 4,
 "nbformat_minor": 2
}
